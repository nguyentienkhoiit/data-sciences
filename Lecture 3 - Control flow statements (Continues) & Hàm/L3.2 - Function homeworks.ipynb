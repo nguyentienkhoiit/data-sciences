{
 "cells": [
  {
   "cell_type": "markdown",
   "metadata": {},
   "source": [
    "# Function Practice Exercises\n",
    "\n",
    "Problems are arranged in increasing difficulty:"
   ]
  },
  {
   "attachments": {},
   "cell_type": "markdown",
   "metadata": {},
   "source": [
    "#### Ex1: **Write a Python function that accepts a string and calculate the number of upper case letters and lower case letters**\n",
    "```\n",
    "+ Sample input string : 'helLo worLD'\n",
    "+ Expected Output :\n",
    "      No. of Upper case characters : 3\n",
    "      No. of Lower case Characters : 6\n",
    "```\n",
    "✳️ Hint: *string*.`isupper()`; *string*.`islower()`"
   ]
  },
  {
   "cell_type": "code",
   "execution_count": 4,
   "metadata": {},
   "outputs": [],
   "source": [
    "# your code here\n"
   ]
  },
  {
   "attachments": {},
   "cell_type": "markdown",
   "metadata": {},
   "source": [
    "#### Ex2: **Write a Python function to sum all the numbers in a sentence below:**"
   ]
  },
  {
   "cell_type": "code",
   "execution_count": null,
   "metadata": {
    "collapsed": true
   },
   "outputs": [],
   "source": [
    "news = '''Menin attended the announcement of the 2023 Miss Grand \n",
    "International and Miss Grand Vietnam, on Monday afternoon. \n",
    "The 26-year-old beauty queen, along with the 2022 Miss Grand \n",
    "Vietnam Doan Thien An along with some models, walked the runway \n",
    "showing off an ao dai collection created by designer Vu Lan Anh.'''"
   ]
  },
  {
   "cell_type": "code",
   "execution_count": null,
   "metadata": {},
   "outputs": [],
   "source": [
    "# Your code here"
   ]
  },
  {
   "attachments": {},
   "cell_type": "markdown",
   "metadata": {},
   "source": [
    "#### Ex3: **Find 33:** \n",
    "\n",
    "Given a list of ints, return True if the array contains a 3 next to a 3 somewhere. (20p)\n",
    "\n",
    "    has_33([1, 3, 3]) → True\n",
    "    has_33([1, 3, 1, 3]) → False\n",
    "    has_33([3, 1, 3]) → False"
   ]
  },
  {
   "cell_type": "code",
   "execution_count": null,
   "metadata": {},
   "outputs": [],
   "source": [
    "# Your code here"
   ]
  },
  {
   "attachments": {},
   "cell_type": "markdown",
   "metadata": {},
   "source": [
    "#### Ex4: **Write function to return list of all words contained a defined single letter from variable `news` below**\n",
    "\n",
    "+ Example you want to return all words contained 'r' in the variable `news`, rhe output should be:\n",
    "```python\n",
    "        ['Grand',\n",
    "        'International',\n",
    "        'Grand',\n",
    "        'afternoon.',\n",
    "        '26-year-old',\n",
    "        'Grand',\n",
    "        'runway',\n",
    "        'created',\n",
    "        'designer']\n",
    " ```"
   ]
  },
  {
   "cell_type": "code",
   "execution_count": 1,
   "metadata": {},
   "outputs": [],
   "source": [
    "news = '''Menin attended the announcement of the 2023 Miss Grand \n",
    "International and Miss Grand Vietnam, on Monday afternoon. \n",
    "The 26-year-old beauty queen, along with the 2022 Miss Grand \n",
    "Vietnam Doan Thien An along with some models, walked the runway \n",
    "showing off an ao dai collection created by designer Vu Lan Anh.'''"
   ]
  },
  {
   "cell_type": "code",
   "execution_count": null,
   "metadata": {},
   "outputs": [],
   "source": [
    "# your code here:"
   ]
  },
  {
   "attachments": {},
   "cell_type": "markdown",
   "metadata": {},
   "source": [
    "#### **Ex5: Write a Python program to calculate the sum of the positive and negative numbers of a given list of numbers using the lambda function:**\n",
    "+ Original list: [2, 4, -6, -9, 11, -12, 14, -5, 17]\n",
    "\n",
    "- Sum of the negative numbers: -32\n",
    "- Sum of the positive numbers: 48"
   ]
  },
  {
   "cell_type": "code",
   "execution_count": null,
   "metadata": {},
   "outputs": [],
   "source": [
    "# Sum of the negative number:\n",
    "# your code here"
   ]
  },
  {
   "cell_type": "code",
   "execution_count": null,
   "metadata": {},
   "outputs": [],
   "source": [
    "# Sum of the positive number:\n",
    "# your code here"
   ]
  },
  {
   "cell_type": "markdown",
   "metadata": {},
   "source": [
    "### 🤔 Challenge: Create Game: **Rock, Paper, Scissors!**\n",
    "\n",
    "You think you can beat your computer with a game of scissors 🤔 Prove it by creating this game and win your computer!\n",
    "\n",
    "<img src=\"https://andygrunwald.com/images/posts/playing-rock-paper-scissors-with-500-people/rock-paper-scissors-game-rules.png\" width=\"400\">"
   ]
  },
  {
   "cell_type": "code",
   "execution_count": null,
   "metadata": {},
   "outputs": [],
   "source": [
    "# Write function to get your choice from keyboard:\n",
    "# your code here:\n",
    "def user_choice()"
   ]
  },
  {
   "cell_type": "code",
   "execution_count": null,
   "metadata": {},
   "outputs": [],
   "source": [
    "# Write function to get computer choice:\n",
    "# your code here:\n"
   ]
  },
  {
   "cell_type": "code",
   "execution_count": null,
   "metadata": {},
   "outputs": [],
   "source": [
    "# Write function to compare your choice and computer choice and return result\n",
    "# your code here\n"
   ]
  },
  {
   "cell_type": "code",
   "execution_count": null,
   "metadata": {},
   "outputs": [],
   "source": [
    "# Put all functions together to complete the game:\n",
    "# your code here"
   ]
  }
 ],
 "metadata": {
  "kernelspec": {
   "display_name": "DA",
   "language": "python",
   "name": "python3"
  },
  "language_info": {
   "codemirror_mode": {
    "name": "ipython",
    "version": 3
   },
   "file_extension": ".py",
   "mimetype": "text/x-python",
   "name": "python",
   "nbconvert_exporter": "python",
   "pygments_lexer": "ipython3",
   "version": "3.9.13"
  },
  "vscode": {
   "interpreter": {
    "hash": "f90745bbca20a4cb7db8559fdb79554de2a76cb1e5146bbf788699cf2d961a52"
   }
  }
 },
 "nbformat": 4,
 "nbformat_minor": 2
}
