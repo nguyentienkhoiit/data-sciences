{
 "cells": [
  {
   "attachments": {},
   "cell_type": "markdown",
   "metadata": {},
   "source": [
    "# Function Practice Exercises\n",
    "\n",
    "Problems are arranged in increasing difficulty:"
   ]
  },
  {
   "attachments": {},
   "cell_type": "markdown",
   "metadata": {},
   "source": [
    "#### Ex1: **Write a Python function that accepts a string and calculate the number of upper case letters and lower case letters**\n",
    "```\n",
    "+ Sample input string : 'helLo worLD'\n",
    "+ Expected Output :\n",
    "      No. of Upper case characters : 3\n",
    "      No. of Lower case Characters : 6\n",
    "```\n",
    "✳️ Hint: *string*.`isupper()`; *string*.`islower()`"
   ]
  },
  {
   "cell_type": "code",
   "execution_count": 2,
   "metadata": {},
   "outputs": [
    {
     "data": {
      "text/plain": [
       "(False, True)"
      ]
     },
     "execution_count": 2,
     "metadata": {},
     "output_type": "execute_result"
    }
   ],
   "source": [
    "'a'.isupper(), 'T'.isupper()"
   ]
  },
  {
   "cell_type": "code",
   "execution_count": 4,
   "metadata": {},
   "outputs": [],
   "source": [
    "# your code here\n",
    "def ex1(input_str):\n",
    "    count_upper = 0\n",
    "    count_lower = 0\n",
    "    for d in input_str:\n",
    "        if d.isupper():\n",
    "            count_upper += 1\n",
    "        elif d.islower():\n",
    "            count_lower += 1\n",
    "    \n",
    "    print('quantity of upper:', count_upper)\n",
    "    print('quantity of lower:', count_lower)\n"
   ]
  },
  {
   "cell_type": "code",
   "execution_count": 5,
   "metadata": {},
   "outputs": [
    {
     "name": "stdout",
     "output_type": "stream",
     "text": [
      "quantity of upper: 3\n",
      "quantity of lower: 13\n"
     ]
    }
   ],
   "source": [
    "ex1('Hello toi ten La Tam')"
   ]
  },
  {
   "attachments": {},
   "cell_type": "markdown",
   "metadata": {},
   "source": [
    "#### Ex2: **Write a Python function to sum all the numbers in a sentence below:**"
   ]
  },
  {
   "cell_type": "code",
   "execution_count": 7,
   "metadata": {
    "collapsed": true
   },
   "outputs": [],
   "source": [
    "news = '''Menin attended the announcement of the 2023 Miss Grand \n",
    "International and Miss Grand Vietnam, on Monday afternoon. \n",
    "The 26-year-old beauty queen, along with the 2022 Miss Grand \n",
    "Vietnam Doan Thien An along with some models, walked the runway \n",
    "showing off an ao dai collection created by designer Vu Lan Anh.'''"
   ]
  },
  {
   "cell_type": "code",
   "execution_count": 8,
   "metadata": {},
   "outputs": [
    {
     "data": {
      "text/plain": [
       "21"
      ]
     },
     "execution_count": 8,
     "metadata": {},
     "output_type": "execute_result"
    }
   ],
   "source": [
    "# Your code here\n",
    "# ver1:\n",
    "def sum_number_in_doc(doc):\n",
    "    sum_number = 0\n",
    "    for w in doc:\n",
    "        if w.isnumeric():\n",
    "            sum_number += int(w)\n",
    "    return sum_number\n",
    "\n",
    "sum_number_in_doc(news)"
   ]
  },
  {
   "cell_type": "code",
   "execution_count": 13,
   "metadata": {},
   "outputs": [
    {
     "data": {
      "text/plain": [
       "21"
      ]
     },
     "execution_count": 13,
     "metadata": {},
     "output_type": "execute_result"
    }
   ],
   "source": [
    "# ver2: using lambda:\n",
    "sum_number_in_doc_2 = lambda doc: sum([ int(w) for w in doc if w.isnumeric()])\n",
    "sum_number_in_doc_2(news)"
   ]
  },
  {
   "cell_type": "code",
   "execution_count": 12,
   "metadata": {},
   "outputs": [
    {
     "data": {
      "text/plain": [
       "6"
      ]
     },
     "execution_count": 12,
     "metadata": {},
     "output_type": "execute_result"
    }
   ],
   "source": [
    "sum([1, 2, 3])"
   ]
  },
  {
   "attachments": {},
   "cell_type": "markdown",
   "metadata": {},
   "source": [
    "#### Ex3: **Find 33:** \n",
    "\n",
    "Given a list of ints, return True if the array contains a 3 next to a 3 somewhere. (20p)\n",
    "\n",
    "    has_33([1, 3, 3]) → True\n",
    "    has_33([1, 3, 1, 3]) → False\n",
    "    has_33([3, 1, 3]) → False"
   ]
  },
  {
   "cell_type": "code",
   "execution_count": 14,
   "metadata": {},
   "outputs": [
    {
     "data": {
      "text/plain": [
       "True"
      ]
     },
     "execution_count": 14,
     "metadata": {},
     "output_type": "execute_result"
    }
   ],
   "source": [
    "# Your code here\n",
    "def has_33(l):\n",
    "    indices_3 = [n[0] for n in enumerate(l) if n[-1]==3]\n",
    "\n",
    "    for i in range(len(indices_3)-1):\n",
    "        if indices_3[i+1] - indices_3[i] == 1:\n",
    "            return True\n",
    "    return False\n",
    "\n",
    "has_33([1, 2, 3, 4, 3, 3, 5, 7])\n"
   ]
  },
  {
   "cell_type": "code",
   "execution_count": 15,
   "metadata": {},
   "outputs": [
    {
     "data": {
      "text/plain": [
       "False"
      ]
     },
     "execution_count": 15,
     "metadata": {},
     "output_type": "execute_result"
    }
   ],
   "source": [
    "has_33([1, 2, 3, 4, 5, 3])"
   ]
  },
  {
   "attachments": {},
   "cell_type": "markdown",
   "metadata": {},
   "source": [
    "#### Ex4: **Write function to return list of all words contained a defined single letter from variable `news` below**\n",
    "\n",
    "+ Example you want to return all words contained 'r' in the variable `news`, rhe output should be:\n",
    "```python\n",
    "        ['Grand',\n",
    "        'International',\n",
    "        'Grand',\n",
    "        'afternoon.',\n",
    "        '26-year-old',\n",
    "        'Grand',\n",
    "        'runway',\n",
    "        'created',\n",
    "        'designer']\n",
    " ```"
   ]
  },
  {
   "cell_type": "code",
   "execution_count": 16,
   "metadata": {},
   "outputs": [],
   "source": [
    "news = '''Menin attended the announcement of the 2023 Miss Grand \n",
    "International and Miss Grand Vietnam, on Monday afternoon. \n",
    "The 26-year-old beauty queen, along with the 2022 Miss Grand \n",
    "Vietnam Doan Thien An along with some models, walked the runway \n",
    "showing off an ao dai collection created by designer Vu Lan Anh.'''"
   ]
  },
  {
   "cell_type": "code",
   "execution_count": 17,
   "metadata": {},
   "outputs": [
    {
     "data": {
      "text/plain": [
       "['Grand',\n",
       " 'International',\n",
       " 'Grand',\n",
       " 'afternoon.',\n",
       " '26-year-old',\n",
       " 'Grand',\n",
       " 'runway',\n",
       " 'created',\n",
       " 'designer']"
      ]
     },
     "execution_count": 17,
     "metadata": {},
     "output_type": "execute_result"
    }
   ],
   "source": [
    "# your code here:\n",
    "# ver1:\n",
    "def list_word_contained_letter(doc, ip_letter):\n",
    "    result_list = []\n",
    "    for w in doc.split():\n",
    "        if ip_letter in w:\n",
    "            result_list.append(w)\n",
    "    return result_list\n",
    "\n",
    "list_word_contained_letter(news, 'r')"
   ]
  },
  {
   "cell_type": "code",
   "execution_count": 18,
   "metadata": {},
   "outputs": [],
   "source": [
    "# ver 2: lambda & list comprehension:\n",
    "list_word_contained_letter_2 = lambda doc, ipletter: [w for w in doc.split() if ipletter in w]"
   ]
  },
  {
   "cell_type": "code",
   "execution_count": 19,
   "metadata": {},
   "outputs": [
    {
     "data": {
      "text/plain": [
       "['Grand',\n",
       " 'International',\n",
       " 'Grand',\n",
       " 'afternoon.',\n",
       " '26-year-old',\n",
       " 'Grand',\n",
       " 'runway',\n",
       " 'created',\n",
       " 'designer']"
      ]
     },
     "execution_count": 19,
     "metadata": {},
     "output_type": "execute_result"
    }
   ],
   "source": [
    "list_word_contained_letter_2(news, 'r')"
   ]
  },
  {
   "attachments": {},
   "cell_type": "markdown",
   "metadata": {},
   "source": [
    "#### **Ex5: Write a Python program to calculate the sum of the positive and negative numbers of a given list of numbers using the lambda function:**\n",
    "+ Original list: [2, 4, -6, -9, 11, -12, 14, -5, 17]\n",
    "\n",
    "- Sum of the negative numbers: -32\n",
    "- Sum of the positive numbers: 48"
   ]
  },
  {
   "cell_type": "code",
   "execution_count": 20,
   "metadata": {},
   "outputs": [],
   "source": [
    "list_numbers = [2, 4, -6, -9, 11, -12, 14, -5, 17]"
   ]
  },
  {
   "cell_type": "code",
   "execution_count": 21,
   "metadata": {},
   "outputs": [
    {
     "data": {
      "text/plain": [
       "-32"
      ]
     },
     "execution_count": 21,
     "metadata": {},
     "output_type": "execute_result"
    }
   ],
   "source": [
    "# Sum of the negative number:\n",
    "# your code here\n",
    "sum_negative = lambda lst: sum([n for n in lst if n < 0])\n",
    "sum_negative(list_numbers)"
   ]
  },
  {
   "cell_type": "code",
   "execution_count": 22,
   "metadata": {},
   "outputs": [
    {
     "data": {
      "text/plain": [
       "48"
      ]
     },
     "execution_count": 22,
     "metadata": {},
     "output_type": "execute_result"
    }
   ],
   "source": [
    "# Sum of the positive number:\n",
    "# your code here\n",
    "sum_positive = lambda lst: sum( [ n for n in lst if n > 0] )\n",
    "sum_positive(list_numbers)"
   ]
  },
  {
   "attachments": {},
   "cell_type": "markdown",
   "metadata": {},
   "source": [
    "### 🤔 Challenge: Create Game: **Rock, Paper, Scissors!**\n",
    "\n",
    "You think you can beat your computer with a game of scissors 🤔 Prove it by creating this game and win your computer!\n",
    "\n",
    "<img src=\"https://andygrunwald.com/images/posts/playing-rock-paper-scissors-with-500-people/rock-paper-scissors-game-rules.png\" width=\"400\">"
   ]
  },
  {
   "cell_type": "code",
   "execution_count": 23,
   "metadata": {},
   "outputs": [],
   "source": [
    "import random"
   ]
  },
  {
   "cell_type": "code",
   "execution_count": 26,
   "metadata": {},
   "outputs": [],
   "source": [
    "# Write function to get your choice from keyboard:\n",
    "# your code here:\n",
    "def user_choice():\n",
    "    return input('pls choose rock/scissor/paper')"
   ]
  },
  {
   "cell_type": "code",
   "execution_count": 27,
   "metadata": {},
   "outputs": [],
   "source": [
    "# Write function to get computer choice:\n",
    "# your code here:\n",
    "def computer_choice():\n",
    "    return random.choice(['rock', 'scissor', 'paper'])"
   ]
  },
  {
   "cell_type": "code",
   "execution_count": 28,
   "metadata": {},
   "outputs": [],
   "source": [
    "# Write function to compare your choice and computer choice and return result\n",
    "# your code here\n",
    "def who_win(user, computer):\n",
    "    if user == 'rock':\n",
    "        if computer == 'rock':\n",
    "            return 'draw'\n",
    "        elif computer == 'scissor':\n",
    "            return 'you win :) !'\n",
    "        else:\n",
    "            return 'you lose :( !'\n",
    "    elif user == 'scissor':\n",
    "        if computer == 'rock':\n",
    "            return 'you lose :( !'\n",
    "        elif computer == 'scissor':\n",
    "            return 'draw'\n",
    "        else:\n",
    "            return 'you win :) !'\n",
    "    elif user == 'paper':\n",
    "        if computer == 'rock':\n",
    "            return 'you win :) !'\n",
    "        elif computer == 'scissor':\n",
    "            return 'you lose :( !'\n",
    "        else:\n",
    "            return 'draw'"
   ]
  },
  {
   "cell_type": "code",
   "execution_count": 30,
   "metadata": {},
   "outputs": [
    {
     "name": "stdout",
     "output_type": "stream",
     "text": [
      "draw\n",
      "you choose: rock | computer choose: rock\n",
      "draw\n",
      "you choose: scissor | computer choose: scissor\n",
      "draw\n",
      "you choose: scissor | computer choose: scissor\n",
      "draw\n",
      "you choose: scissor | computer choose: scissor\n",
      "draw\n",
      "you choose: scissor | computer choose: scissor\n",
      "you win :) !\n",
      "you choose: scissor | computer choose: paper\n",
      "draw\n",
      "you choose: paper | computer choose: paper\n",
      "draw\n",
      "you choose: rock | computer choose: rock\n",
      "None\n",
      "you choose: roclk | computer choose: paper\n",
      "draw\n",
      "you choose: rock | computer choose: rock\n",
      "draw\n",
      "you choose: rock | computer choose: rock\n",
      "you win :) !\n",
      "you choose: rock | computer choose: scissor\n"
     ]
    }
   ],
   "source": [
    "# Put all functions together to complete the game:\n",
    "# your code here\n",
    "while True:\n",
    "    ini_ip = input('pls input any key to continue or \"e\" to stop this game')\n",
    "    if ini_ip.lower() == 'e':\n",
    "        break\n",
    "    user_c = user_choice()\n",
    "    computer_c = computer_choice()\n",
    "    print(who_win(user_c, computer_c), flush=True)\n",
    "    print('you choose: {} | computer choose: {}'.format(user_c, computer_c))"
   ]
  }
 ],
 "metadata": {
  "kernelspec": {
   "display_name": "DA",
   "language": "python",
   "name": "python3"
  },
  "language_info": {
   "codemirror_mode": {
    "name": "ipython",
    "version": 3
   },
   "file_extension": ".py",
   "mimetype": "text/x-python",
   "name": "python",
   "nbconvert_exporter": "python",
   "pygments_lexer": "ipython3",
   "version": "3.9.13"
  },
  "vscode": {
   "interpreter": {
    "hash": "f90745bbca20a4cb7db8559fdb79554de2a76cb1e5146bbf788699cf2d961a52"
   }
  }
 },
 "nbformat": 4,
 "nbformat_minor": 2
}
