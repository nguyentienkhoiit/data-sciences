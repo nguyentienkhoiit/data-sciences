{
 "cells": [
  {
   "attachments": {},
   "cell_type": "markdown",
   "metadata": {},
   "source": [
    "# 👉 CONTROL FLOW STATEMENT (CONTINUE)"
   ]
  },
  {
   "attachments": {},
   "cell_type": "markdown",
   "metadata": {},
   "source": [
    "## 2 - Useful functions:"
   ]
  },
  {
   "attachments": {},
   "cell_type": "markdown",
   "metadata": {},
   "source": [
    "### 2.1 -  `enumerate(iterable, start=0)`\n",
    "\n",
    "Python Enumerate Function is a generator that adds an incremental index next to each item of an iterable.\n",
    "\n",
    "<img src=\"https://tutorial.eyehunts.com//wp-content/uploads/2018/09/Python-Enumerate-Function-example-Why-this-is-useful--1024x450.png\" width=\"600\">"
   ]
  },
  {
   "cell_type": "code",
   "execution_count": null,
   "metadata": {},
   "outputs": [],
   "source": [
    "# See what enumerate will do?\n",
    "lst = ['a', 'b', 'c', 'd']\n",
    "list(enumerate(lst))"
   ]
  },
  {
   "cell_type": "code",
   "execution_count": null,
   "metadata": {},
   "outputs": [],
   "source": [
    "# Near professional way\n",
    "index_count = 0\n",
    "lst = ['a', 'b', 'c', 'd']\n",
    "\n",
    "for letter in lst:\n",
    "    print(f'index {index_count} has value {letter}')\n",
    "    index_count += 1"
   ]
  },
  {
   "cell_type": "code",
   "execution_count": null,
   "metadata": {},
   "outputs": [],
   "source": [
    "# Professional way!\n",
    "for i, letter in enumerate(lst):\n",
    "    print(f'index {i} has value {letter}')"
   ]
  },
  {
   "cell_type": "code",
   "execution_count": null,
   "metadata": {},
   "outputs": [],
   "source": [
    "# Professional way! (start by 1)\n",
    "for i, letter in enumerate(lst, 1):\n",
    "    print(f'index {i} has value {letter}')"
   ]
  },
  {
   "attachments": {},
   "cell_type": "markdown",
   "metadata": {},
   "source": [
    "### 2.2 - `zip(iterator1, iterator2, iterator3 ...)`\n",
    "\n",
    "![img](https://encrypted-tbn0.gstatic.com/images?q=tbn:ANd9GcQpGiEEVvS6Rcwm67hfriLl0muxq3iQws7Vrw&usqp=CAU)\n",
    "\n",
    "Returns a zip object, which is an iterator of tuples where the first item in each passed iterator is paired together, and then the second item in each passed iterator are paired together ... etc"
   ]
  },
  {
   "cell_type": "code",
   "execution_count": null,
   "metadata": {},
   "outputs": [],
   "source": [
    "exprience = [1,    2,   5,   0.5] # years of experience\n",
    "salaries = [500, 1000, 2000, 100] # (label) salary\n",
    "\n",
    "list(zip(exprience , salaries))\n"
   ]
  },
  {
   "cell_type": "code",
   "execution_count": null,
   "metadata": {},
   "outputs": [],
   "source": [
    "exprience = [1,    2,   5,   0.5] # years of experience\n",
    "salaries = [500, 1000, 2000, 100] # (label) salary\n",
    "\n",
    "for years, salary in zip(exprience , salaries):\n",
    "  print(f'This guy has {years} years of experience and he/she is paid {salary} dollars')"
   ]
  },
  {
   "cell_type": "code",
   "execution_count": null,
   "metadata": {},
   "outputs": [],
   "source": [
    "exprience = [1,    2,   5,   0.5] # years of experience\n",
    "salaries = [500, 1000, 2000, 100] # (label) salary\n",
    "\n",
    "for pair in zip(exprience , salaries):\n",
    "  years = pair[0]\n",
    "  salary = pair[1]\n",
    "  print(f'This guy has {years} years of experience and he/she is paid {salary} dollars')"
   ]
  },
  {
   "cell_type": "markdown",
   "metadata": {
    "id": "929-FeDVHHjR"
   },
   "source": [
    "If the lists are different lengths, zip stops as soon as the first list ends."
   ]
  },
  {
   "cell_type": "code",
   "execution_count": null,
   "metadata": {},
   "outputs": [],
   "source": [
    "exprience = [1,    2,   5,   0.5] # years of experience\n",
    "salaries = [500, 1000, 2000, 100, 99999, 889988] # (label) salary\n",
    "\n",
    "for pair in zip(exprience , salaries):\n",
    "  years = pair[0]\n",
    "  salary = pair[1]\n",
    "  print(f'This guy has {years} years of experience and he/she is paid {salary} dollars')"
   ]
  },
  {
   "attachments": {},
   "cell_type": "markdown",
   "metadata": {},
   "source": [
    "### 2.3 - `in`/`not in` operator\n",
    "\n",
    "You can use the `in` operator to check if a value exists in a group of values and vice versa is `not in`"
   ]
  },
  {
   "cell_type": "code",
   "execution_count": null,
   "metadata": {},
   "outputs": [],
   "source": [
    "'x' in ['x','y','z']"
   ]
  },
  {
   "cell_type": "code",
   "execution_count": null,
   "metadata": {},
   "outputs": [],
   "source": [
    "'x' in [1,2,3]"
   ]
  },
  {
   "cell_type": "code",
   "execution_count": null,
   "metadata": {},
   "outputs": [],
   "source": [
    "'x' not in ['x','y','z']"
   ]
  },
  {
   "cell_type": "code",
   "execution_count": null,
   "metadata": {},
   "outputs": [],
   "source": [
    "'x' not in [1,2,3]"
   ]
  },
  {
   "cell_type": "code",
   "execution_count": null,
   "metadata": {},
   "outputs": [],
   "source": [
    "# ❓: Return those who have sold and failed to sell the 'iphone 12 pro' in the data below:\n",
    "sell_data = {\n",
    "    'Bill Gate': ['laptop asus', 'iphone 12 pro', 'iphone 11 pro max', 'laptop dell', 'ipad'],\n",
    "    'Elon Musk': ['laptop dell', 'iphone 13 pro', 'iphone 12 pro', 'laptop acer', 'ipad'],\n",
    "    'Jeff Bezos': ['iphone 13 pro', 'iphone 14 pro max', 'laptop dell', 'nokia 1280'],\n",
    "    'Warren Buffett': ['nokia 1280', 'iphone 12 pro', 'iphone 13 pro max', 'mac book', 'ipad'],\n",
    "    'Tim Cook': ['nokia 1280', 'iphone 12 pro', 'iphone 13 pro max', 'mac book', 'ipad'],\n",
    "\n",
    "}"
   ]
  },
  {
   "cell_type": "code",
   "execution_count": null,
   "metadata": {},
   "outputs": [],
   "source": [
    "# Your code here"
   ]
  },
  {
   "attachments": {},
   "cell_type": "markdown",
   "metadata": {
    "id": "hHosW21M6YPu"
   },
   "source": [
    "### 2.4 `Random` library"
   ]
  },
  {
   "cell_type": "code",
   "execution_count": null,
   "metadata": {},
   "outputs": [],
   "source": [
    "# Import built-in random library\n",
    "import random\n"
   ]
  },
  {
   "attachments": {},
   "cell_type": "markdown",
   "metadata": {
    "id": "fKjt_PhJDzAu"
   },
   "source": [
    "#### 👉 ``random.random()`` Return the next random floating point number in the range [0.0, 1.0)."
   ]
  },
  {
   "cell_type": "code",
   "execution_count": null,
   "metadata": {
    "colab": {
     "base_uri": "https://localhost:8080/"
    },
    "executionInfo": {
     "elapsed": 298,
     "status": "ok",
     "timestamp": 1626855447439,
     "user": {
      "displayName": "Quan Tran",
      "photoUrl": "",
      "userId": "11078860236930939203"
     },
     "user_tz": -420
    },
    "id": "HCiZm7cUikUW",
    "outputId": "e4887633-d48f-4737-a394-9402d3b15e29"
   },
   "outputs": [],
   "source": [
    "# Everytime run this code will generate the new float number from 0.0 to 1.0\n",
    "print(random.random())"
   ]
  },
  {
   "cell_type": "code",
   "execution_count": null,
   "metadata": {
    "colab": {
     "base_uri": "https://localhost:8080/"
    },
    "executionInfo": {
     "elapsed": 287,
     "status": "ok",
     "timestamp": 1626855499804,
     "user": {
      "displayName": "Quan Tran",
      "photoUrl": "",
      "userId": "11078860236930939203"
     },
     "user_tz": -420
    },
    "id": "p8CkgjVRvktT",
    "outputId": "6a1de172-cf46-489f-8bbd-78d08d00ac6a"
   },
   "outputs": [],
   "source": [
    "import random\n",
    "for _ in range(5):\n",
    "    print(random.random())"
   ]
  },
  {
   "cell_type": "markdown",
   "metadata": {
    "id": "mVwCNwHNGbyr"
   },
   "source": [
    "If you want to get reproducible results:"
   ]
  },
  {
   "cell_type": "code",
   "execution_count": null,
   "metadata": {
    "colab": {
     "base_uri": "https://localhost:8080/"
    },
    "executionInfo": {
     "elapsed": 277,
     "status": "ok",
     "timestamp": 1626855755798,
     "user": {
      "displayName": "Quan Tran",
      "photoUrl": "",
      "userId": "11078860236930939203"
     },
     "user_tz": -420
    },
    "id": "gs1PBVC7MLQG",
    "outputId": "0d221493-f264-477f-d375-37d0a843aafd"
   },
   "outputs": [],
   "source": [
    "random.seed(10)         # Set seed to 10\n",
    "print(random.random())  # same result again"
   ]
  },
  {
   "cell_type": "code",
   "execution_count": null,
   "metadata": {
    "colab": {
     "base_uri": "https://localhost:8080/"
    },
    "executionInfo": {
     "elapsed": 280,
     "status": "ok",
     "timestamp": 1626855656411,
     "user": {
      "displayName": "Quan Tran",
      "photoUrl": "",
      "userId": "11078860236930939203"
     },
     "user_tz": -420
    },
    "id": "g20DK4p-GV7L",
    "outputId": "d76011e5-3cde-4cba-fbf0-93fe7db3ce59"
   },
   "outputs": [],
   "source": [
    "random.seed(42)         # This ensures we get the same results every time\n",
    "print(random.random()) \n",
    "print(random.random()) \n",
    "print(random.random())"
   ]
  },
  {
   "attachments": {},
   "cell_type": "markdown",
   "metadata": {
    "id": "SDA1FczQD3tm"
   },
   "source": [
    "#### 👉 ``random.randrange()``\n",
    "```\n",
    "random.randrange(stop)\n",
    "random.randrange(start, stop[, step])\n",
    "```\n",
    "- Return a randomly selected an integer from ``range(start, stop, step)``."
   ]
  },
  {
   "cell_type": "code",
   "execution_count": null,
   "metadata": {
    "colab": {
     "base_uri": "https://localhost:8080/"
    },
    "executionInfo": {
     "elapsed": 2,
     "status": "ok",
     "timestamp": 1626855808124,
     "user": {
      "displayName": "Quan Tran",
      "photoUrl": "",
      "userId": "11078860236930939203"
     },
     "user_tz": -420
    },
    "id": "R-39-gnWGqrc",
    "outputId": "e314d056-44bd-440e-ef2e-12dd7aad8cb4"
   },
   "outputs": [],
   "source": [
    "print(random.randrange(10))    # choose randomly from range(10) = [0, 1, ..., 9]"
   ]
  },
  {
   "cell_type": "code",
   "execution_count": null,
   "metadata": {
    "colab": {
     "base_uri": "https://localhost:8080/"
    },
    "executionInfo": {
     "elapsed": 3,
     "status": "ok",
     "timestamp": 1626855872208,
     "user": {
      "displayName": "Quan Tran",
      "photoUrl": "",
      "userId": "11078860236930939203"
     },
     "user_tz": -420
    },
    "id": "zHByK0x-Eqjt",
    "outputId": "d14004af-21b3-4529-961e-2d0e17ecb3ec"
   },
   "outputs": [],
   "source": [
    "print(random.randrange(3, 6))  # choose randomly from range(3, 6) = [3, 4, 5]"
   ]
  },
  {
   "attachments": {},
   "cell_type": "markdown",
   "metadata": {
    "id": "8qUUnrHxFfYZ"
   },
   "source": [
    "#### 👉 ``random.shuffle()``"
   ]
  },
  {
   "cell_type": "markdown",
   "metadata": {
    "id": "7hYaytEWFPTe"
   },
   "source": [
    "``random.shuffle(x[, random])``\n",
    "Shuffle the sequence x in place.\n",
    "- The optional argument random is a 0-argument function returning a random float in [0.0, 1.0); by default, this is the function random()."
   ]
  },
  {
   "cell_type": "code",
   "execution_count": null,
   "metadata": {
    "id": "BXZJDq6kGtOS"
   },
   "outputs": [],
   "source": [
    "list1 = [1, 2, 3, 4, 5, 6, 7, 8, 9, 10]\n",
    "list1"
   ]
  },
  {
   "cell_type": "code",
   "execution_count": null,
   "metadata": {
    "id": "46ghLOMXL6oa"
   },
   "outputs": [],
   "source": [
    "# Shuffle the list\n",
    "random.shuffle(list1)\n",
    "list1"
   ]
  },
  {
   "attachments": {},
   "cell_type": "markdown",
   "metadata": {
    "id": "6lB0tjhTGj08"
   },
   "source": [
    "#### 👉 ``random.choice(seq)`` / ``random.choices(seq, k)`` - Return a/multi random element from the non-empty sequence seq. "
   ]
  },
  {
   "cell_type": "code",
   "execution_count": null,
   "metadata": {
    "colab": {
     "base_uri": "https://localhost:8080/",
     "height": 35
    },
    "executionInfo": {
     "elapsed": 286,
     "status": "ok",
     "timestamp": 1626856382963,
     "user": {
      "displayName": "Quan Tran",
      "photoUrl": "",
      "userId": "11078860236930939203"
     },
     "user_tz": -420
    },
    "id": "2PbeoqYfGv2o",
    "outputId": "7a1154e7-f8d9-4a39-cc34-ce727d9c14a9"
   },
   "outputs": [],
   "source": [
    "# If you don't know what you want to eat tonight: :)\n",
    "my_dinner = random.choice([\"Gà rán\", \"Cơm tấm\", \"Bánh cuốn\", \"Bún Bò\", \"Mì Quảng\"])\n",
    "my_dinner"
   ]
  },
  {
   "cell_type": "code",
   "execution_count": null,
   "metadata": {},
   "outputs": [],
   "source": [
    "# Random.choices:\n",
    "random.choices([\"Gà rán\", \"Cơm tấm\", \"Bánh cuốn\", \"Bún Bò\", \"Mì Quảng\"], k = 3)"
   ]
  },
  {
   "attachments": {},
   "cell_type": "markdown",
   "metadata": {
    "id": "d2n4Pn-7GxLg"
   },
   "source": [
    "#### 👉 ``random.sample(population, k, *, counts=None)`` - Return a k length list of unique elements chosen from the population sequence or set. Used for random sampling without replacement."
   ]
  },
  {
   "cell_type": "code",
   "execution_count": null,
   "metadata": {
    "id": "CVnv54dOG4RD"
   },
   "outputs": [],
   "source": [
    "lottery_numbers = range(10)\n",
    "list(lottery_numbers)"
   ]
  },
  {
   "cell_type": "code",
   "execution_count": null,
   "metadata": {
    "colab": {
     "base_uri": "https://localhost:8080/"
    },
    "executionInfo": {
     "elapsed": 7,
     "status": "ok",
     "timestamp": 1626856654826,
     "user": {
      "displayName": "Quan Tran",
      "photoUrl": "",
      "userId": "11078860236930939203"
     },
     "user_tz": -420
    },
    "id": "4VqVGZuWHMs-",
    "outputId": "2ac1c901-d077-4ba4-9899-e87cedccde6c"
   },
   "outputs": [],
   "source": [
    "winning_numbers = random.sample(lottery_numbers, 5)\n",
    "winning_numbers"
   ]
  },
  {
   "cell_type": "code",
   "execution_count": null,
   "metadata": {},
   "outputs": [],
   "source": [
    "random.choices(lottery_numbers, k = 5)"
   ]
  },
  {
   "attachments": {},
   "cell_type": "markdown",
   "metadata": {},
   "source": [
    "> ✳️Note: `random.sample()` will randomly take out a list of k numbers and **WITHOUT DUPLICATED**, on the other hand, `random.choices()` also randomly return list of k values but the values can be **REPEATED**."
   ]
  },
  {
   "attachments": {},
   "cell_type": "markdown",
   "metadata": {},
   "source": [
    "### 2.5. `<string>.join(iterable)` - takes all items in an iterable and joins them into one string."
   ]
  },
  {
   "cell_type": "code",
   "execution_count": null,
   "metadata": {},
   "outputs": [],
   "source": [
    "s = ['hello', 'world,', \"i'm\", 'from', 'Vietnam']\n",
    "s"
   ]
  },
  {
   "cell_type": "code",
   "execution_count": null,
   "metadata": {},
   "outputs": [],
   "source": [
    "# Join all elements from list \"s\" to an sentence:\n",
    "sentence = ' '.join(s)\n",
    "sentence"
   ]
  },
  {
   "attachments": {},
   "cell_type": "markdown",
   "metadata": {
    "collapsed": true
   },
   "source": [
    "## 3 - List Comprehensions\n",
    "<img src=\"https://www.freecodecamp.org/news/content/images/2021/07/list-comprehension.png\" width=\"600\">"
   ]
  },
  {
   "cell_type": "code",
   "execution_count": null,
   "metadata": {},
   "outputs": [],
   "source": [
    "# Return list of even numbers in the range(0, 5):\n",
    "evenList = []\n",
    "for n in range(5):\n",
    "    if n % 2 == 0:\n",
    "        evenList.append(n)\n",
    "# Show even numbers list:\n",
    "evenList"
   ]
  },
  {
   "cell_type": "code",
   "execution_count": null,
   "metadata": {
    "collapsed": true
   },
   "outputs": [],
   "source": [
    "# Professional way:\n",
    "evenList2 = [n for n in range(5) if n % 2 == 0]\n",
    "evenList2"
   ]
  },
  {
   "attachments": {},
   "cell_type": "markdown",
   "metadata": {},
   "source": [
    "**❓ Ex1: Use <code>for</code>, `.split()`, and <code>if</code> to create a `list` contains all words that start with 's' in 1 line code:**"
   ]
  },
  {
   "cell_type": "code",
   "execution_count": null,
   "metadata": {
    "collapsed": true
   },
   "outputs": [],
   "source": [
    "st = 'Print only the words that start with s in this sentence'"
   ]
  },
  {
   "cell_type": "code",
   "execution_count": null,
   "metadata": {
    "collapsed": true
   },
   "outputs": [],
   "source": [
    "#Code here\n"
   ]
  },
  {
   "attachments": {},
   "cell_type": "markdown",
   "metadata": {},
   "source": [
    "**❓Ex2: Go through the string below and return the list of words have length is even in 1 line code**"
   ]
  },
  {
   "cell_type": "code",
   "execution_count": null,
   "metadata": {},
   "outputs": [],
   "source": [
    "st = 'Print every word in this sentence that has an even number of letters'"
   ]
  },
  {
   "cell_type": "code",
   "execution_count": null,
   "metadata": {},
   "outputs": [],
   "source": [
    "# your code here\n"
   ]
  },
  {
   "cell_type": "code",
   "execution_count": null,
   "metadata": {},
   "outputs": [],
   "source": []
  },
  {
   "attachments": {},
   "cell_type": "markdown",
   "metadata": {},
   "source": [
    "# 👉 - FUNCTION\n"
   ]
  },
  {
   "cell_type": "markdown",
   "metadata": {},
   "source": [
    "A function is a named sequence of statements that belong together. Their primary purpose is to help us organize programs into chunks that match how we think about the problem.\n",
    "\n",
    ">**Two kinds of functions in Python.**\n",
    ">\n",
    "> + **Built-in functions** that are provided as part of Python: print(), input(), type(), float(), int() ...\n",
    "> + **Functions** that **we define** ourselves and then use.\n",
    ">    \n"
   ]
  },
  {
   "cell_type": "code",
   "execution_count": null,
   "metadata": {},
   "outputs": [],
   "source": [
    "# Built-in python functions:\n",
    "print('Hello')\n",
    "string_len = len('Hello')\n",
    "print(string_len)"
   ]
  },
  {
   "attachments": {},
   "cell_type": "markdown",
   "metadata": {},
   "source": [
    "**Syntax for a function definition is:**\n",
    "```py\n",
    "def function_name(parameters):\n",
    "    statements\n",
    "    return #(optional)\n",
    "```"
   ]
  },
  {
   "cell_type": "code",
   "execution_count": null,
   "metadata": {},
   "outputs": [],
   "source": [
    "# Create the first function:\n",
    "def greeting():\n",
    "    print('hello')\n",
    "    print('You are awesome!')"
   ]
  },
  {
   "cell_type": "code",
   "execution_count": null,
   "metadata": {},
   "outputs": [],
   "source": [
    "# Call function\n",
    "greeting()"
   ]
  },
  {
   "cell_type": "code",
   "execution_count": null,
   "metadata": {},
   "outputs": [],
   "source": [
    "# Say greeting sentences 5 times:\n",
    "for i in range(5):\n",
    "    greeting()"
   ]
  },
  {
   "cell_type": "markdown",
   "metadata": {},
   "source": [
    "**Function parameters**\n",
    "\n",
    "With parameters, functions are even more powerful, because they can do pretty much the same thing on each invocation, but not exactly the same thing."
   ]
  },
  {
   "cell_type": "code",
   "execution_count": null,
   "metadata": {},
   "outputs": [],
   "source": [
    "def greeting(name):\n",
    "    print(f'Hello {name}')\n",
    "    print('You are awesome!')"
   ]
  },
  {
   "cell_type": "code",
   "execution_count": null,
   "metadata": {},
   "outputs": [],
   "source": [
    "greeting('Nam')"
   ]
  },
  {
   "cell_type": "code",
   "execution_count": null,
   "metadata": {},
   "outputs": [],
   "source": [
    "names = ['Hoa', 'Nam', 'Trúc']\n",
    "for name in names:\n",
    "    greeting(name)\n",
    "    print('='*15)"
   ]
  },
  {
   "attachments": {},
   "cell_type": "markdown",
   "metadata": {},
   "source": [
    "**Using `return`**\n",
    "\n",
    "Not only can you pass a parameter value into a function, a function can also produce a value.\n",
    "\n",
    "+ Functions that return values are sometimes called **fruitful functions.**\n",
    "+ Function that doesn’t return a value is called **void(non-fruitful )-function**\n"
   ]
  },
  {
   "cell_type": "code",
   "execution_count": null,
   "metadata": {},
   "outputs": [],
   "source": [
    "# Giải phương trình: y = x^2 - 2x + 1\n",
    "def f(x):\n",
    "    y = x**2 - 2*x + 1\n",
    "    return y\n"
   ]
  },
  {
   "cell_type": "code",
   "execution_count": null,
   "metadata": {},
   "outputs": [],
   "source": [
    "result = f(x = 2)\n",
    "print(f'kết quả của phương trình là: {result}')"
   ]
  },
  {
   "cell_type": "code",
   "execution_count": null,
   "metadata": {},
   "outputs": [],
   "source": [
    "# Comparing lenght of 2 strings and return the longest one. If same length, return both.\n",
    "def compare_string(str1, str2):\n",
    "    if len(str1) > len(str2):\n",
    "        return str1\n",
    "    elif len(str1) < len(str2):\n",
    "        return str2\n",
    "    else:\n",
    "        return str1, str2\n"
   ]
  },
  {
   "cell_type": "code",
   "execution_count": null,
   "metadata": {},
   "outputs": [],
   "source": [
    "# Run the function:\n",
    "compare_string('hello12', 'Vietnam')"
   ]
  },
  {
   "cell_type": "markdown",
   "metadata": {},
   "source": [
    "**Variables, parameters are local; global variables**\n",
    "\n",
    "Each call of the function creates new local variables, and their lifetimes expire when the function returns to the caller.\n",
    "\n",
    "+ **Local variable** and **parameters** only **exists inside the function** and you cannot use it outside\n",
    "+ **Variable names** that are **at the top-level**, not inside any function definition, are called **global variable.**"
   ]
  },
  {
   "cell_type": "code",
   "execution_count": null,
   "metadata": {},
   "outputs": [],
   "source": [
    "# Giải phương trình: y = 2x + b\n",
    "\n",
    "b = 10\n",
    "def f(x):\n",
    "    y = 2*x + b\n",
    "    return y\n",
    "f(x = 2)"
   ]
  },
  {
   "cell_type": "code",
   "execution_count": null,
   "metadata": {},
   "outputs": [],
   "source": [
    "# Ta thử print b và y:\n",
    "print(b)\n",
    "print(y)\n",
    "\n",
    "# b is global variable\n",
    "# y is local variable since we can not use \"y\" outside of the function"
   ]
  },
  {
   "cell_type": "markdown",
   "metadata": {},
   "source": [
    "**Functions can call other functions**\n",
    "\n",
    "One of the most important ways that computer programmers take a large problem and **break it down into a group of smaller problems.**\n",
    "\n",
    "+ Each of the functions we write can be used and called from other functions we write.\n",
    "+ **Functional decomposition** is process of breaking a problem into smaller subproblems"
   ]
  },
  {
   "cell_type": "code",
   "execution_count": null,
   "metadata": {},
   "outputs": [],
   "source": [
    "def square(x):\n",
    "    '''\n",
    "    Calculate the area of square\n",
    "    '''\n",
    "    y = x * x\n",
    "    return y\n",
    "\n",
    "\n",
    "def sum_of_squares(x,y,z):\n",
    "    '''\n",
    "    Calculate sum of area of 3 squares\n",
    "    '''\n",
    "    a = square(x)\n",
    "    b = square(y)\n",
    "    c = square(z)\n",
    "    return a + b + c"
   ]
  },
  {
   "cell_type": "code",
   "execution_count": null,
   "metadata": {},
   "outputs": [],
   "source": [
    "sum_of_squares(1, 2, 3)"
   ]
  },
  {
   "cell_type": "markdown",
   "metadata": {},
   "source": [
    "## **❓CHALLENGE FOR YOU!**\n"
   ]
  },
  {
   "cell_type": "markdown",
   "metadata": {},
   "source": [
    "#### Ex1: Write a Python function to find the Max of 2 numbers:\n",
    "```\n",
    "Example:\n",
    "+ Input: max_of_two(3, 7)\n",
    "+ Output: 7\n",
    "```"
   ]
  },
  {
   "cell_type": "code",
   "execution_count": null,
   "metadata": {},
   "outputs": [],
   "source": [
    "# Your code here\n"
   ]
  },
  {
   "cell_type": "markdown",
   "metadata": {},
   "source": [
    "#### Ex2: Write a function to find the max of 3 numbers:\n",
    "```\n",
    "Example:\n",
    "+ Input: max_of_three(3, 7, 5.4)\n",
    "+ Output: 7\n",
    "```"
   ]
  },
  {
   "cell_type": "code",
   "execution_count": null,
   "metadata": {},
   "outputs": [],
   "source": [
    "# Your code here\n"
   ]
  },
  {
   "attachments": {},
   "cell_type": "markdown",
   "metadata": {},
   "source": [
    "#### Ex3: Write a Python function to sum all the numbers in a list\n",
    "\n",
    "```\n",
    "+ Input: [2, 4, 6, 'hello', 3]\n",
    "+ Output: 15\n",
    "```\n",
    "✳️ Hint: *string*`.isnumeric()`; `str()`"
   ]
  },
  {
   "cell_type": "code",
   "execution_count": null,
   "metadata": {},
   "outputs": [],
   "source": [
    "'5'.isnumeric(), 'abc'.isnumeric()"
   ]
  },
  {
   "cell_type": "code",
   "execution_count": null,
   "metadata": {},
   "outputs": [],
   "source": [
    "# your code here\n"
   ]
  },
  {
   "attachments": {},
   "cell_type": "markdown",
   "metadata": {},
   "source": [
    "## 👉 Anonymus (Lambda) Functions"
   ]
  },
  {
   "cell_type": "markdown",
   "metadata": {},
   "source": [
    "![sdf](https://i.ibb.co/Y0zryWj/6.gif)\n",
    "\n",
    "A lambda function is a small anonymous function.\n",
    "\n",
    "A lambda function can take any number of arguments, but can only have one expression.\n",
    "\n",
    "> **Syntax:**\\\n",
    "> ```python\n",
    "> lambda arguments : expression\n",
    "> ```"
   ]
  },
  {
   "cell_type": "code",
   "execution_count": null,
   "metadata": {},
   "outputs": [],
   "source": [
    "# ver1: Input n and return add 5 to n\n",
    "def add_five(n):\n",
    "    return n+5\n",
    "\n",
    "add_five(10)"
   ]
  },
  {
   "cell_type": "code",
   "execution_count": null,
   "metadata": {},
   "outputs": [],
   "source": [
    "# ver2: Input n and return add 5 to n\n",
    "add_five = lambda x: x+5\n",
    "add_five(10)"
   ]
  },
  {
   "cell_type": "code",
   "execution_count": null,
   "metadata": {},
   "outputs": [],
   "source": [
    "# Ver 1: Input x, y and return x**y:\n",
    "def cal_square(x, y):\n",
    "    return x**y\n",
    "\n",
    "cal_square(2, 3)"
   ]
  },
  {
   "cell_type": "code",
   "execution_count": null,
   "metadata": {},
   "outputs": [],
   "source": [
    "# Ver 2: Input x, y and return x**y:\n",
    "cal_square = lambda x, y: x**y\n",
    "\n",
    "cal_square(2, 3)"
   ]
  },
  {
   "cell_type": "code",
   "execution_count": null,
   "metadata": {},
   "outputs": [],
   "source": [
    "# Take out even number with your defined position:\n",
    "numbers = [0, 1, 2, 3, 4, 5, 6, 7, 8, 9]\n",
    "\n",
    "even_number = lambda l, i: [ n for n in numbers if n%2 == 0][i]\n",
    "even_number(numbers, 4) "
   ]
  },
  {
   "cell_type": "markdown",
   "metadata": {},
   "source": [
    "#### Ex1: Using lambda function with input x, y and return result of: `x*10 + y**2 - 10`"
   ]
  },
  {
   "cell_type": "code",
   "execution_count": null,
   "metadata": {},
   "outputs": [],
   "source": [
    "# Your code here\n"
   ]
  },
  {
   "attachments": {},
   "cell_type": "markdown",
   "metadata": {},
   "source": [
    "#### Ex2: Using **lambda** function to extract month in date with format yyyy-mm-dd:\n",
    "```\n",
    "Example:\n",
    "+ Input: '2022-12-19'\n",
    "+ Outout: 12\n",
    "\n",
    "```"
   ]
  },
  {
   "cell_type": "code",
   "execution_count": null,
   "metadata": {},
   "outputs": [],
   "source": [
    "# Your code here:\n"
   ]
  },
  {
   "attachments": {},
   "cell_type": "markdown",
   "metadata": {},
   "source": [
    "#### Ex3: Using **lambda** function and **list comprehensive** to get list of months from a list of dates:\n",
    "\n",
    "```\n",
    "Example:\n",
    "+ Input: ['2022-12-19', '2022-11-20', '2022-10-21']\n",
    "+ Output: [12, 11, 10]\n",
    "```"
   ]
  },
  {
   "cell_type": "code",
   "execution_count": null,
   "metadata": {},
   "outputs": [],
   "source": [
    "date_list = ['2022-12-19', '2022-11-20', '2022-10-21']\n",
    "\n",
    "# Your code here"
   ]
  },
  {
   "attachments": {},
   "cell_type": "markdown",
   "metadata": {},
   "source": [
    "## 👉 Errors and Exception handling"
   ]
  },
  {
   "cell_type": "markdown",
   "metadata": {},
   "source": [
    "Programming is a complex process. Since it is done by human beings, errors may often occur. Programming errors are called bugs and the process of tracking them down and correcting them is called debugging. Types bug:\n",
    "\n",
    "+ **Syntax error**. A syntax error occurs when a programmer writes an incorrect line of code (the structure of a program and the rules about that structure).\\ *Example:* ```print \"Tam Tran\"```\n",
    "+ **Runtime error**. Runtime errors are also called exceptions because they usually indicate that something exceptional (and bad) has happened. *Example:* ```print( a/0 )```\n",
    "+ **Semantic error (logic error).** The computer will not generate any error messages. However, your program will not do the right thing.\n",
    "\n",
    "> Your debugging friends: \\\n",
    ">    https://www.google.com/, https://stackoverflow.com/,... "
   ]
  },
  {
   "cell_type": "code",
   "execution_count": null,
   "metadata": {},
   "outputs": [],
   "source": [
    "prin('a')"
   ]
  },
  {
   "cell_type": "code",
   "execution_count": null,
   "metadata": {},
   "outputs": [],
   "source": [
    "a = 1000\n",
    "print( a/0 )"
   ]
  },
  {
   "cell_type": "markdown",
   "metadata": {},
   "source": [
    "**Raising and catching errors**\n",
    "\n",
    "The ***try/except*** control structure provides a way to process a run-time error and continue on with program execution With try/except\n",
    "\n",
    "**The syntax for *try & except* function:**\n",
    "```python\n",
    "try:\n",
    "   <Some Code.... >\n",
    "except <ErrorType>:\n",
    "   <exception handler code block>\n",
    "```"
   ]
  },
  {
   "cell_type": "code",
   "execution_count": null,
   "metadata": {},
   "outputs": [],
   "source": [
    "#example: convert all values to integer\n",
    "lst = [1, 2, 'three', 4, 5]\n",
    "for n in lst:\n",
    "    print( int(n) )"
   ]
  },
  {
   "cell_type": "code",
   "execution_count": null,
   "metadata": {},
   "outputs": [],
   "source": [
    "# You try and except:\n",
    "for n in lst:\n",
    "    try:\n",
    "        print(int(n))\n",
    "    except:\n",
    "        pass # Ignore error\n"
   ]
  },
  {
   "cell_type": "code",
   "execution_count": null,
   "metadata": {},
   "outputs": [],
   "source": [
    "# You try and except:\n",
    "for n in lst:\n",
    "    try:\n",
    "        print(int(n))\n",
    "    except:\n",
    "        print(f'{n} can not cast to int')  \n"
   ]
  }
 ],
 "metadata": {
  "kernelspec": {
   "display_name": "DA",
   "language": "python",
   "name": "python3"
  },
  "language_info": {
   "codemirror_mode": {
    "name": "ipython",
    "version": 3
   },
   "file_extension": ".py",
   "mimetype": "text/x-python",
   "name": "python",
   "nbconvert_exporter": "python",
   "pygments_lexer": "ipython3",
   "version": "3.9.15"
  },
  "orig_nbformat": 4,
  "vscode": {
   "interpreter": {
    "hash": "f90745bbca20a4cb7db8559fdb79554de2a76cb1e5146bbf788699cf2d961a52"
   }
  }
 },
 "nbformat": 4,
 "nbformat_minor": 2
}
