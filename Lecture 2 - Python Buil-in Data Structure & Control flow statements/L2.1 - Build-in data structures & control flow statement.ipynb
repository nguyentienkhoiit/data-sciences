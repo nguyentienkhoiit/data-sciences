{
 "cells": [
  {
   "cell_type": "markdown",
   "metadata": {},
   "source": [
    "**Overview**\n",
    "+ Built-in data structures: List, Dictionary, Set, Tuple\n",
    "+ Control flow statements"
   ]
  },
  {
   "cell_type": "markdown",
   "metadata": {},
   "source": [
    "# 1 - Built-in Data Structures and sequences\n",
    "\n",
    "## 1.1- List:\n",
    "\n",
    "![img](https://media.geeksforgeeks.org/wp-content/uploads/List-Slicing.jpg)\n",
    "\n",
    "Python Lists are just like the arrays, declared in other languages which is an ordered collection of data. It is very flexible as the items in a list do not need to be of the same type."
   ]
  },
  {
   "cell_type": "code",
   "execution_count": null,
   "metadata": {
    "collapsed": true
   },
   "outputs": [],
   "source": [
    "# Assign a list to an variable named my_list\n",
    "my_list = [1,2,3]"
   ]
  },
  {
   "cell_type": "markdown",
   "metadata": {},
   "source": [
    "We just created a list of integers, but lists can actually hold different object types. For example:"
   ]
  },
  {
   "cell_type": "code",
   "execution_count": null,
   "metadata": {
    "collapsed": true
   },
   "outputs": [],
   "source": [
    "my_list = ['A string', 23, 100.232, True, [1, 2, 3]]\n",
    "my_list"
   ]
  },
  {
   "cell_type": "markdown",
   "metadata": {},
   "source": [
    "How many items are in the sequence of the list?"
   ]
  },
  {
   "cell_type": "code",
   "execution_count": null,
   "metadata": {},
   "outputs": [],
   "source": [
    "len(my_list)"
   ]
  },
  {
   "cell_type": "markdown",
   "metadata": {},
   "source": [
    "### 1.1.1 Indexing and Slicing\n",
    "\n",
    "Indexing and slicing work just like in strings. Let's make a new list to remind ourselves of how this works:"
   ]
  },
  {
   "cell_type": "code",
   "execution_count": null,
   "metadata": {
    "collapsed": true
   },
   "outputs": [],
   "source": [
    "my_list = ['one', 'two', 'three', 4, 5, ['six', 7, 8]]"
   ]
  },
  {
   "cell_type": "code",
   "execution_count": null,
   "metadata": {},
   "outputs": [],
   "source": [
    "# Grab element at index 0\n",
    "my_list[0]"
   ]
  },
  {
   "cell_type": "code",
   "execution_count": null,
   "metadata": {},
   "outputs": [],
   "source": [
    "# Grab index 1 and everything past it\n",
    "my_list[1:]"
   ]
  },
  {
   "cell_type": "code",
   "execution_count": null,
   "metadata": {},
   "outputs": [],
   "source": [
    "# Grab everything UP TO index 3\n",
    "my_list[:3]"
   ]
  },
  {
   "cell_type": "code",
   "execution_count": null,
   "metadata": {},
   "outputs": [],
   "source": [
    "# Grab 'six':\n",
    "my_list[-1][0]"
   ]
  },
  {
   "cell_type": "markdown",
   "metadata": {},
   "source": [
    "We can also use + to concatenate lists, just like we did for strings."
   ]
  },
  {
   "cell_type": "code",
   "execution_count": null,
   "metadata": {},
   "outputs": [],
   "source": [
    "list2 = [9, 10, 11]\n",
    "my_list = my_list + list2\n",
    "my_list"
   ]
  },
  {
   "cell_type": "code",
   "execution_count": null,
   "metadata": {},
   "outputs": [],
   "source": [
    "# Make the list double\n",
    "my_list * 2"
   ]
  },
  {
   "cell_type": "code",
   "execution_count": null,
   "metadata": {},
   "outputs": [],
   "source": [
    "# Revert values:\n",
    "my_list[::-1]"
   ]
  },
  {
   "cell_type": "code",
   "execution_count": null,
   "metadata": {},
   "outputs": [],
   "source": [
    "my_list"
   ]
  },
  {
   "cell_type": "code",
   "execution_count": null,
   "metadata": {},
   "outputs": [],
   "source": [
    "# Change 'three' -> 3:\n",
    "my_list[2] = 3\n",
    "my_list"
   ]
  },
  {
   "cell_type": "code",
   "execution_count": null,
   "metadata": {},
   "outputs": [],
   "source": [
    "# Change 4, 5 -> 'four', 'five':\n",
    "my_list[3:5] = ['four', 'five']\n",
    "my_list\n"
   ]
  },
  {
   "cell_type": "markdown",
   "metadata": {},
   "source": [
    "### 1.1.2. List Methods"
   ]
  },
  {
   "cell_type": "code",
   "execution_count": null,
   "metadata": {
    "collapsed": true
   },
   "outputs": [],
   "source": [
    "# Create a new list\n",
    "planets = ['Mercury', 'Venus', 'Earth', 'Mars', 'Jupiter', 'Saturn', 'Uranus', 'Neptune']"
   ]
  },
  {
   "attachments": {},
   "cell_type": "markdown",
   "metadata": {},
   "source": [
    "**👉 .append():** - adds an item to the end of the list."
   ]
  },
  {
   "cell_type": "code",
   "execution_count": null,
   "metadata": {
    "collapsed": true
   },
   "outputs": [],
   "source": [
    "# Append:\n",
    "planets.append('Vietnam')\n",
    "planets"
   ]
  },
  {
   "cell_type": "code",
   "execution_count": null,
   "metadata": {},
   "outputs": [],
   "source": [
    "#❓ Help me append \"Campuchia\" into planets list:\n",
    "# Your code here:\n"
   ]
  },
  {
   "attachments": {},
   "cell_type": "markdown",
   "metadata": {},
   "source": [
    "👉 **.pop()** - remove value based on its index"
   ]
  },
  {
   "cell_type": "code",
   "execution_count": null,
   "metadata": {},
   "outputs": [],
   "source": [
    "# Pop off the the last value:\n",
    "planets.pop(-1)"
   ]
  },
  {
   "cell_type": "code",
   "execution_count": null,
   "metadata": {},
   "outputs": [],
   "source": [
    "# Show\n",
    "planets"
   ]
  },
  {
   "attachments": {},
   "cell_type": "markdown",
   "metadata": {},
   "source": [
    "👉 **.remove()** - removes the first matching element"
   ]
  },
  {
   "cell_type": "code",
   "execution_count": null,
   "metadata": {},
   "outputs": [],
   "source": [
    "planets.remove('Venus')\n",
    "planets"
   ]
  },
  {
   "attachments": {},
   "cell_type": "markdown",
   "metadata": {},
   "source": [
    "👉 **.insert()** - inserts an element to the list at the specified index."
   ]
  },
  {
   "cell_type": "code",
   "execution_count": null,
   "metadata": {},
   "outputs": [],
   "source": [
    "# Insert a specific position in list: Insert Sun into the first possition\n",
    "planets.insert(0, 'Sun')"
   ]
  },
  {
   "cell_type": "code",
   "execution_count": null,
   "metadata": {},
   "outputs": [],
   "source": [
    "planets"
   ]
  },
  {
   "attachments": {},
   "cell_type": "markdown",
   "metadata": {},
   "source": [
    "👉 **.index( `element`, `_start_from` )** - returns the index of the specified element in the list."
   ]
  },
  {
   "cell_type": "code",
   "execution_count": null,
   "metadata": {},
   "outputs": [],
   "source": [
    "# What is the position of Mars:\n",
    "planets.index('Mars')\n",
    "# Note: By default, we will get the first index of value matching with specified value"
   ]
  },
  {
   "attachments": {},
   "cell_type": "markdown",
   "metadata": {},
   "source": [
    "👉 **.sort( `reverse = True/False`)** - sorts the items of a list in ascending or descending"
   ]
  },
  {
   "cell_type": "code",
   "execution_count": null,
   "metadata": {},
   "outputs": [],
   "source": [
    "# Sort list from A->Z:\n",
    "planets.sort()\n",
    "planets"
   ]
  },
  {
   "cell_type": "code",
   "execution_count": null,
   "metadata": {},
   "outputs": [],
   "source": [
    "# Sort list from Z->A:\n",
    "planets.sort(reverse=True)\n",
    "planets"
   ]
  },
  {
   "attachments": {},
   "cell_type": "markdown",
   "metadata": {},
   "source": [
    "👉 **.shuffle()** - random reorganize the order of the list items"
   ]
  },
  {
   "cell_type": "code",
   "execution_count": null,
   "metadata": {},
   "outputs": [],
   "source": [
    "# Shuffle the list:\n",
    "import random\n",
    "random.shuffle(planets)\n",
    "planets"
   ]
  },
  {
   "attachments": {},
   "cell_type": "markdown",
   "metadata": {},
   "source": [
    "👉 **.count()** - count nunber of times of a element appears in the list"
   ]
  },
  {
   "cell_type": "code",
   "execution_count": null,
   "metadata": {},
   "outputs": [],
   "source": [
    "# Count number of value in list:\n",
    "my_list = [1,2,3,1,'four', 2, 5, 2]\n",
    "\n",
    "my_list.count(2)"
   ]
  },
  {
   "cell_type": "markdown",
   "metadata": {},
   "source": [
    "## 1.2- Dictionary\n",
    "\n",
    "![](https://programmathically.com/wp-content/uploads/2021/05/dictionary-768x416.png)\n",
    "\n",
    "A dictionary is a data structure that stores items using key-value pairs. Each entry needs to have a unique key. Entries are ordered and can be changed. Dictionaries come inbuilt with Python and are created using curly brackets."
   ]
  },
  {
   "cell_type": "code",
   "execution_count": null,
   "metadata": {
    "collapsed": true
   },
   "outputs": [],
   "source": [
    "# Make a dictionary with {} and : to signify a key and a value\n",
    "my_dict = {'number_phone': 123456789, 'name': 'Tâm', 'lovers': ['Hồ Ngọc Hà', 'Mỹ Tâm']}"
   ]
  },
  {
   "cell_type": "code",
   "execution_count": null,
   "metadata": {},
   "outputs": [],
   "source": [
    "# Call values by their key\n",
    "my_dict['number_phone']"
   ]
  },
  {
   "cell_type": "code",
   "execution_count": null,
   "metadata": {},
   "outputs": [],
   "source": [
    "# Return all keys:\n",
    "my_dict.keys()"
   ]
  },
  {
   "cell_type": "code",
   "execution_count": null,
   "metadata": {},
   "outputs": [],
   "source": [
    "# Return all values:\n",
    "my_dict.values()"
   ]
  },
  {
   "cell_type": "code",
   "execution_count": null,
   "metadata": {},
   "outputs": [],
   "source": [
    "# Return all pair of keys and values:\n",
    "my_dict.items()"
   ]
  },
  {
   "cell_type": "code",
   "execution_count": null,
   "metadata": {},
   "outputs": [],
   "source": [
    "# Update value:\n",
    "my_dict['number_phone'] = 99999999\n",
    "my_dict"
   ]
  },
  {
   "cell_type": "code",
   "execution_count": null,
   "metadata": {},
   "outputs": [],
   "source": [
    "# Hà Nhi fall in love with Tâm!:\n",
    "my_dict['lovers'].append('Hà Nhi')\n",
    "my_dict"
   ]
  },
  {
   "cell_type": "code",
   "execution_count": null,
   "metadata": {},
   "outputs": [],
   "source": [
    "# Tâm is bad boy so now no body love Tâm anymore! :(\n",
    "my_dict.pop('lovers')"
   ]
  },
  {
   "cell_type": "code",
   "execution_count": null,
   "metadata": {},
   "outputs": [],
   "source": [
    "my_dict"
   ]
  },
  {
   "cell_type": "code",
   "execution_count": null,
   "metadata": {},
   "outputs": [],
   "source": [
    "# Tam is so sad and he traveled to the US and married Taylor Swift\n",
    "my_dict['wife'] = 'Taylor Swift'\n",
    "my_dict"
   ]
  },
  {
   "cell_type": "markdown",
   "metadata": {},
   "source": [
    "## 😏 CHALLENGE!:"
   ]
  },
  {
   "cell_type": "code",
   "execution_count": null,
   "metadata": {},
   "outputs": [],
   "source": [
    "# ex1: Returns \"Cap Chris\":\n",
    "teams = [['Coach John', 'Cap Crunch', 'Tom, Timmy'],['Coach Jan', 'Cap Alan', 'Bruce'],['Coach Thomas', 'Cap Chris', 'Tony', 'Peter']]\n",
    "\n",
    "# Your code here \n"
   ]
  },
  {
   "cell_type": "code",
   "execution_count": null,
   "metadata": {},
   "outputs": [],
   "source": [
    "# ex2: Print out all the planets that comes before Mars (including Mars)\n",
    "planets = ['Mercury', 'Venus', 'Earth', 'Mars', 'Jupiter', 'Saturn', 'Uranus', 'Neptune']\n",
    "\n",
    "# Your code here "
   ]
  },
  {
   "cell_type": "code",
   "execution_count": null,
   "metadata": {},
   "outputs": [],
   "source": [
    "# Ex3: Print out all the planets that comes before Mars (including Mars) but backward \n",
    "\n",
    "# Your code here \n"
   ]
  },
  {
   "cell_type": "code",
   "execution_count": null,
   "metadata": {},
   "outputs": [],
   "source": [
    "# Ex4: Change name of \"Earth\" to \"Trái Đất\"\n",
    "\n",
    "# Your code here \n"
   ]
  },
  {
   "cell_type": "code",
   "execution_count": null,
   "metadata": {},
   "outputs": [],
   "source": [
    "# Ex5: Return 'Python' from my_dict as below:\n",
    "my_dict = {\n",
    "    'a': [1, 2, 3],\n",
    "    'b': [4, 5, ['six', 'Python']]\n",
    "}\n",
    "\n",
    "# Your code here \n",
    "\n"
   ]
  },
  {
   "cell_type": "code",
   "execution_count": null,
   "metadata": {},
   "outputs": [],
   "source": [
    "# Ex6: Add the pair of key and value: 'c': [7, 8, 9] to my_dict:\n",
    "\n",
    "# Your code here \n"
   ]
  },
  {
   "cell_type": "code",
   "execution_count": null,
   "metadata": {},
   "outputs": [],
   "source": []
  },
  {
   "cell_type": "markdown",
   "metadata": {},
   "source": [
    "## 1.3- Tuples\n",
    "\n",
    "![img](https://pynative.com/wp-content/uploads/2021/02/python-tuple.jpg)\n",
    "\n",
    "In Python tuples are very similar to lists, however, unlike lists they are *immutable* meaning they can not be changed. You would use tuples to present things that shouldn't be changed, such as days of the week, or dates on a calendar. "
   ]
  },
  {
   "cell_type": "code",
   "execution_count": null,
   "metadata": {
    "collapsed": true
   },
   "outputs": [],
   "source": [
    "# Create a tuple\n",
    "t = (1,2,3, 'four', [5, 'six'], 3, 3, 2)"
   ]
  },
  {
   "cell_type": "code",
   "execution_count": null,
   "metadata": {},
   "outputs": [],
   "source": [
    "# Check len just like a list\n",
    "len(t)"
   ]
  },
  {
   "cell_type": "code",
   "execution_count": null,
   "metadata": {},
   "outputs": [],
   "source": [
    "# Use indexing just like we did in lists\n",
    "t[3]"
   ]
  },
  {
   "cell_type": "code",
   "execution_count": null,
   "metadata": {},
   "outputs": [],
   "source": [
    "# Slicing just like a list\n",
    "t[-1], t[::-1], t[2:4]"
   ]
  },
  {
   "cell_type": "code",
   "execution_count": null,
   "metadata": {},
   "outputs": [],
   "source": [
    "# Value unchangeable and insertable:\n",
    "t[0] = 'zero'\n"
   ]
  },
  {
   "cell_type": "markdown",
   "metadata": {},
   "source": [
    "**Basic Tuple Methods**\n",
    "\n",
    "Tuples have built-in methods, but not as many as lists do. Let's look at two of them:\n",
    "\n",
    "| Method   | Description                                                                             |\n",
    "|----------|-----------------------------------------------------------------------------------------|\n",
    "| .count() | Returns the number of times a specified value occurs in a tuple                         |\n",
    "| .index() | Searches the tuple for a specified value and returns the position of where it was found |\n"
   ]
  },
  {
   "cell_type": "code",
   "execution_count": null,
   "metadata": {},
   "outputs": [],
   "source": [
    "# Use .index to enter a value and return the index\n",
    "t.index('four')\n"
   ]
  },
  {
   "cell_type": "code",
   "execution_count": null,
   "metadata": {},
   "outputs": [],
   "source": [
    "# Use .count to count the number of times a value appears\n",
    "t.count(3)\n"
   ]
  },
  {
   "cell_type": "code",
   "execution_count": null,
   "metadata": {},
   "outputs": [],
   "source": [
    "# convert a tupple to List:\n",
    "t_list = list(t)\n",
    "t_list"
   ]
  },
  {
   "cell_type": "markdown",
   "metadata": {},
   "source": [
    "## 1.4- Set\n",
    "\n",
    "There are two other object types in Python that we should quickly cover\n",
    "\n",
    "![set img](https://pynative.com/wp-content/uploads/2021/03/python-sets.jpg)\n",
    "\n",
    "Sets are an unordered collection of *unique* elements. We can construct them by using the set() function. Let's go ahead and make a set to see how it works"
   ]
  },
  {
   "cell_type": "code",
   "execution_count": null,
   "metadata": {
    "collapsed": true
   },
   "outputs": [],
   "source": [
    "x = {1, 2, 3, 3, 2}\n",
    "x"
   ]
  },
  {
   "cell_type": "code",
   "execution_count": null,
   "metadata": {
    "collapsed": true
   },
   "outputs": [],
   "source": [
    "# We add to sets with the add() method\n",
    "x.add(4)\n",
    "#Show\n",
    "x"
   ]
  },
  {
   "cell_type": "code",
   "execution_count": null,
   "metadata": {},
   "outputs": [],
   "source": [
    "# Add two\n",
    "x.add('two')\n",
    "x"
   ]
  },
  {
   "cell_type": "code",
   "execution_count": null,
   "metadata": {},
   "outputs": [],
   "source": [
    "# Add two again! But it just show one since set will automatically remove duplicated\n",
    "x.add('two')\n",
    "x"
   ]
  },
  {
   "cell_type": "code",
   "execution_count": null,
   "metadata": {
    "collapsed": true
   },
   "outputs": [],
   "source": [
    "# Create a list with repeats\n",
    "list1 = ['number', 7, 1,1,2,2,3,4,5,6,1,1]"
   ]
  },
  {
   "cell_type": "code",
   "execution_count": null,
   "metadata": {},
   "outputs": [],
   "source": [
    "# Cast as set to get unique values and it also reorder the list\n",
    "set1 = set(list1)\n",
    "set1"
   ]
  },
  {
   "cell_type": "code",
   "execution_count": null,
   "metadata": {},
   "outputs": [],
   "source": [
    "# Set can not indexing:\n",
    "set1[0]"
   ]
  },
  {
   "cell_type": "markdown",
   "metadata": {},
   "source": [
    "## 1.5- Type casting"
   ]
  },
  {
   "cell_type": "code",
   "execution_count": null,
   "metadata": {},
   "outputs": [],
   "source": [
    "# Casting on number:\n",
    "n = 123\n",
    "print(n, type(n))\n",
    "\n",
    "# Cast int -> float:\n",
    "f = float(n)\n",
    "print(f, type(f))\n",
    "\n",
    "# Cast float -> int:\n",
    "i = int(f)\n",
    "print(i, type(i)) \n"
   ]
  },
  {
   "cell_type": "code",
   "execution_count": null,
   "metadata": {},
   "outputs": [],
   "source": [
    "# Casting among list, tupe, set:\n",
    "list1 = [1, 2, 'three', 'four']\n",
    "tup = tuple(list1)\n",
    "print(tup, type(tup))\n",
    "\n",
    "# Revert:\n",
    "list1 = list(tup)\n",
    "print(list1, type(list1))"
   ]
  },
  {
   "cell_type": "code",
   "execution_count": null,
   "metadata": {},
   "outputs": [],
   "source": [
    "# Casting among list, tupe, set:\n",
    "list1 = [1, 2, 'three', 'four']\n",
    "set1 = set(list1)\n",
    "print(set1, type(set1))"
   ]
  },
  {
   "cell_type": "markdown",
   "metadata": {},
   "source": [
    "# 2 - Control Flow statements (Part 1)\n",
    "## 2.1 - if, elif, else Statements\n",
    "\n",
    "<img src=\"https://i.imgur.com/fqJOBUS.png\" width=\"400\">\n"
   ]
  },
  {
   "cell_type": "code",
   "execution_count": null,
   "metadata": {},
   "outputs": [],
   "source": [
    "# Give x, y as values below, print the larger number:\n",
    "x = 100\n",
    "y = 123"
   ]
  },
  {
   "cell_type": "code",
   "execution_count": null,
   "metadata": {},
   "outputs": [],
   "source": [
    "# Find the bigger number with x,y will be inputed from your keyboard"
   ]
  },
  {
   "attachments": {},
   "cell_type": "markdown",
   "metadata": {},
   "source": [
    "🤔 Ex: A school has following rules for grading system:\n",
    "+ Below 25 - F\n",
    "+ 25 to 45 - E\n",
    "+ 45 to 50 - D\n",
    "+ 50 to 60 - C\n",
    "+ 60 to 80 - B\n",
    "+ Above 80 - A\n",
    "\n",
    "Ask user to enter marks by keyboard and print the corresponding grade."
   ]
  },
  {
   "cell_type": "code",
   "execution_count": null,
   "metadata": {},
   "outputs": [],
   "source": [
    "# Your code here:\n"
   ]
  },
  {
   "cell_type": "markdown",
   "metadata": {},
   "source": [
    "## 2.2 - for Loops\n",
    "\n",
    "A <code>for</code> loop acts as an iterator in Python; it goes through items that are in a *sequence* or any other iterable item. Objects that we've learned about that we can iterate over include strings, lists, tuples, and even built-in iterables for dictionaries, such as keys or values.\n",
    "\n",
    "<img src=\"https://i.ibb.co/8zsRg1F/5.png\" width=\"400\">\n",
    "\n",
    "\n",
    "    "
   ]
  },
  {
   "attachments": {},
   "cell_type": "markdown",
   "metadata": {},
   "source": [
    "👉 **Loop through a LIST**"
   ]
  },
  {
   "cell_type": "code",
   "execution_count": null,
   "metadata": {
    "collapsed": true
   },
   "outputs": [],
   "source": [
    "# We'll learn how to automate this sort of list in the next lecture\n",
    "list1 = [1,2,3,4,5,6,7,8,9,10]"
   ]
  },
  {
   "cell_type": "code",
   "execution_count": null,
   "metadata": {},
   "outputs": [],
   "source": [
    "for num in list1:\n",
    "    print(num)"
   ]
  },
  {
   "attachments": {},
   "cell_type": "markdown",
   "metadata": {},
   "source": [
    "The `range(start, stop, step)` function returns a sequence of numbers, starting from 0 by default, and increments by 1 (by default), and stops before a specified number."
   ]
  },
  {
   "cell_type": "code",
   "execution_count": null,
   "metadata": {},
   "outputs": [],
   "source": [
    "range(10)"
   ]
  },
  {
   "cell_type": "code",
   "execution_count": null,
   "metadata": {},
   "outputs": [],
   "source": [
    "list(range(10)) # by default it returns from 0 to 9"
   ]
  },
  {
   "cell_type": "code",
   "execution_count": null,
   "metadata": {},
   "outputs": [],
   "source": [
    "list(range(3, 10)) #from 3 to 9"
   ]
  },
  {
   "cell_type": "code",
   "execution_count": null,
   "metadata": {},
   "outputs": [],
   "source": [
    "list(range(3, 10, 2)) #from 3 to 9 and step 2\n"
   ]
  },
  {
   "cell_type": "code",
   "execution_count": null,
   "metadata": {},
   "outputs": [],
   "source": [
    "for i in range(10):\n",
    "    print(i, end = '_')"
   ]
  },
  {
   "cell_type": "code",
   "execution_count": null,
   "metadata": {},
   "outputs": [],
   "source": [
    "# 🤔 Print the numbers that are divisible by 2 less than 20?\n",
    "for num in range(20):\n",
    "    if num % 2 == 0:\n",
    "        print(num)"
   ]
  },
  {
   "attachments": {},
   "cell_type": "markdown",
   "metadata": {},
   "source": [
    "👉 **Loop through a STRING**"
   ]
  },
  {
   "cell_type": "code",
   "execution_count": null,
   "metadata": {},
   "outputs": [],
   "source": [
    "# for loop with string\n",
    "words = 'we are number one!'\n",
    "for w in words:\n",
    "    print(w)"
   ]
  },
  {
   "attachments": {},
   "cell_type": "markdown",
   "metadata": {},
   "source": [
    "👉 **Loop through a DICTIONARY**"
   ]
  },
  {
   "cell_type": "code",
   "execution_count": null,
   "metadata": {},
   "outputs": [],
   "source": [
    "my_dict = {'Tam': 19, 'Hoa': 20, 'Tuyen': 17}\n"
   ]
  },
  {
   "cell_type": "code",
   "execution_count": null,
   "metadata": {},
   "outputs": [],
   "source": [
    "# Loop through keys:\n",
    "for k in my_dict:\n",
    "    print(k)"
   ]
  },
  {
   "cell_type": "code",
   "execution_count": null,
   "metadata": {},
   "outputs": [],
   "source": [
    "# Loop through values:\n",
    "for v in my_dict.values():\n",
    "    print(v)"
   ]
  },
  {
   "cell_type": "code",
   "execution_count": null,
   "metadata": {},
   "outputs": [],
   "source": [
    "# Loop through pairs key and value:\n",
    "for k, v in my_dict.items():\n",
    "    print(k, v)"
   ]
  },
  {
   "attachments": {},
   "cell_type": "markdown",
   "metadata": {},
   "source": [
    "👉 **enumerate()** - function adds a counter as the key of the enumerate object."
   ]
  },
  {
   "cell_type": "code",
   "execution_count": null,
   "metadata": {},
   "outputs": [],
   "source": [
    "fruits = ['apple', 'banana', 'cherry', 'orange', 'banana', 'cherry', 'banana', 'cherry', 'orange']\n",
    "\n",
    "enumerate(fruits)"
   ]
  },
  {
   "cell_type": "code",
   "execution_count": null,
   "metadata": {},
   "outputs": [],
   "source": [
    "list(enumerate(fruits)) # start from 0\n"
   ]
  },
  {
   "cell_type": "code",
   "execution_count": null,
   "metadata": {},
   "outputs": [],
   "source": [
    "list(enumerate(fruits, 2)) # Start from 2\n"
   ]
  },
  {
   "cell_type": "code",
   "execution_count": null,
   "metadata": {},
   "outputs": [],
   "source": [
    "for i, f in enumerate(fruits):\n",
    "    print(i, f)"
   ]
  },
  {
   "cell_type": "code",
   "execution_count": null,
   "metadata": {},
   "outputs": [],
   "source": [
    "# ❓Ex1: Find the tallest name:\n",
    "students = {'Nam': 170, 'Nữ': 185, 'Hồng': 150, 'Cam': 165, 'Huệ': 175}\n",
    "\n",
    "# ✳️Hint: students.items()"
   ]
  },
  {
   "cell_type": "code",
   "execution_count": null,
   "metadata": {},
   "outputs": [],
   "source": [
    "# ❓Ex2: Find the FIRST number and ITS INDEX divisible by 3:\n",
    "numbers = [1, 32, 11, 243, 77, 897, 666, 964, 738, 1000, 322]\n",
    "\n",
    "# ✳️Hint: \"break\" (opional: find the LAST number divisible by 3)"
   ]
  },
  {
   "cell_type": "markdown",
   "metadata": {},
   "source": [
    "**Nested iteration**"
   ]
  },
  {
   "cell_type": "code",
   "execution_count": null,
   "metadata": {},
   "outputs": [],
   "source": [
    "# Example:\n",
    "for i in range(3):\n",
    "    for j in range(4):\n",
    "        print(i, j)"
   ]
  },
  {
   "cell_type": "code",
   "execution_count": null,
   "metadata": {},
   "outputs": [],
   "source": [
    "# ❓Ex3: I challenge you to print like below 😏\n",
    "\n",
    "# ✳️Hint: có sử dụng tham số end trong hàm print()"
   ]
  },
  {
   "cell_type": "markdown",
   "metadata": {
    "collapsed": true
   },
   "source": [
    "## 1.3 - while Loops\n",
    "\n",
    "<img src=\"https://www.freecodecamp.org/news/content/images/2020/08/while-loop.jpg\" width=\"350\">\n",
    "\n",
    "The <code>while</code> statement in Python is one of most general ways to perform iteration. A <code>while</code> statement will repeatedly execute a single statement or group of statements as long as the condition is true. The reason it is called a 'loop' is because the code statements are looped through over and over again until the condition is no longer met.\n",
    "\n",
    "The general format of a while loop is:\n",
    "\n",
    "    while test:\n",
    "        code statements\n",
    "    else:\n",
    "        final code statements\n",
    "\n",
    "Let’s look at a few simple <code>while</code> loops in action. "
   ]
  },
  {
   "cell_type": "code",
   "execution_count": null,
   "metadata": {},
   "outputs": [],
   "source": [
    "x = 0\n",
    "\n",
    "while x < 10:\n",
    "    print('x is currently: ',x)\n",
    "    # x still less than 10, adding 1 to x:\n",
    "    x+=1"
   ]
  },
  {
   "cell_type": "code",
   "execution_count": null,
   "metadata": {},
   "outputs": [],
   "source": [
    "x = 0\n",
    "\n",
    "while x < 10:\n",
    "    print('x is currently: ',x)\n",
    "    # x still less than 10, adding 1 to x:\n",
    "    x+=1\n",
    "    \n",
    "# else:\n",
    "#     print('All Done!')\n",
    "\n",
    "print('Done')"
   ]
  },
  {
   "attachments": {},
   "cell_type": "markdown",
   "metadata": {},
   "source": [
    "## 1.4 - `break`, `continue`, `pass`\n",
    "\n",
    "We can use <code>break</code>, <code>continue</code>, and <code>pass</code> statements in our loops to add additional functionality for various cases.\n",
    "\n",
    "<img src=\"https://pythontut.com/static/pictures/continue_break_pass.png\" width=\"600\">"
   ]
  },
  {
   "cell_type": "code",
   "execution_count": null,
   "metadata": {},
   "outputs": [],
   "source": [
    "# Pass:\n",
    "x = 0\n",
    "while x < 10:\n",
    "    if x == 5:\n",
    "        print('FIVE')\n",
    "        pass\n",
    "        print('hello')\n",
    "    elif x ==6:\n",
    "        pass\n",
    "    else:\n",
    "        print(x)\n",
    "    x += 1\n",
    "    "
   ]
  },
  {
   "cell_type": "code",
   "execution_count": null,
   "metadata": {},
   "outputs": [],
   "source": [
    "# Break:\n",
    "x = 0\n",
    "while x < 10:\n",
    "    if x == 5:\n",
    "        print('FIVE')\n",
    "        break\n",
    "        print('hello')\n",
    "    else:\n",
    "        print(x)\n",
    "    x += 1"
   ]
  },
  {
   "cell_type": "code",
   "execution_count": null,
   "metadata": {},
   "outputs": [],
   "source": [
    "# Continue:\n",
    "x = 0\n",
    "while x < 10:\n",
    "    x += 1\n",
    "    if x == 5:\n",
    "        print('FIVE')\n",
    "        continue\n",
    "        print('hello')\n",
    "    else:\n",
    "        print(x)"
   ]
  },
  {
   "cell_type": "markdown",
   "metadata": {},
   "source": [
    "## 😏 CHALLENGE!"
   ]
  },
  {
   "attachments": {},
   "cell_type": "markdown",
   "metadata": {},
   "source": [
    "**FizzBuzz**\n",
    "\n",
    "*Instructions:*\n",
    "\n",
    "You are going to write a program that automatically prints the solution to the FizzBuzz game by using **for-loop** or **while-loop**\n",
    "\n",
    "Write a program that prints the integers from 1 to 100. But for multiples of `3` print `\"Fizz\"` instead of the number, and for the multiples of `5` print `\"Buzz\"`. For numbers which are multiples of both `3` and `5` print `\"FizzBuzz\"`\n",
    "\n",
    "e.g. it might start off like this:\n",
    "\n",
    "```\n",
    "`1\n",
    "2\n",
    "Fizz\n",
    "4\n",
    "Buzz\n",
    "Fizz\n",
    "7\n",
    "8\n",
    "Fizz\n",
    "Buzz\n",
    "11\n",
    "Fizz\n",
    "13\n",
    "14\n",
    "FizzBuzz`\n",
    "```\n",
    "\n",
    "`.... etc.`\n",
    "\n",
    "*✳️ Note:*\n",
    "\n",
    "1. Remember your answer should start from 1 and go up to and including 100. \n",
    "2. Each number/text should be printed on a separate line.\n",
    "3. Write 2 versions: verion 1 use `for` loop and version 2 use `while` loop\n",
    "\n"
   ]
  },
  {
   "cell_type": "code",
   "execution_count": null,
   "metadata": {},
   "outputs": [],
   "source": [
    "# Your code here!\n"
   ]
  }
 ],
 "metadata": {
  "kernelspec": {
   "display_name": "Python 3.9.15 ('DS')",
   "language": "python",
   "name": "python3"
  },
  "language_info": {
   "codemirror_mode": {
    "name": "ipython",
    "version": 3
   },
   "file_extension": ".py",
   "mimetype": "text/x-python",
   "name": "python",
   "nbconvert_exporter": "python",
   "pygments_lexer": "ipython3",
   "version": "3.9.15"
  },
  "orig_nbformat": 4,
  "vscode": {
   "interpreter": {
    "hash": "f6a489820ea9c3bee1f0f43e438377dc5d62d7d6492a1bda6ad9e3f1b3e1b203"
   }
  }
 },
 "nbformat": 4,
 "nbformat_minor": 2
}
